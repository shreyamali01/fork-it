{
 "cells": [
  {
   "cell_type": "markdown",
   "metadata": {},
   "source": [
    "# Normalization of data\n"
   ]
  },
  {
   "cell_type": "code",
   "execution_count": 4,
   "metadata": {},
   "outputs": [
    {
     "name": "stdout",
     "output_type": "stream",
     "text": [
      "   Column1  Column2\n",
      "0        1       11\n",
      "1        2       12\n",
      "2        3       13\n",
      "3        4       14\n",
      "4        5       15\n",
      "5        6       16\n",
      "6        7       17\n",
      "7        8       18\n",
      "8        9       19\n",
      "9       10       20\n",
      "    Column1   Column2\n",
      "0 -1.000000 -1.000000\n",
      "1 -0.777778 -0.777778\n",
      "2 -0.555556 -0.555556\n",
      "3 -0.333333 -0.333333\n",
      "4 -0.111111 -0.111111\n",
      "5  0.111111  0.111111\n",
      "6  0.333333  0.333333\n",
      "7  0.555556  0.555556\n",
      "8  0.777778  0.777778\n",
      "9  1.000000  1.000000\n"
     ]
    }
   ],
   "source": [
    "import pandas as pd\n",
    "from sklearn.preprocessing import MinMaxScaler\n",
    "\n",
    "# Create a dictionary of data\n",
    "data = {\n",
    "    'Column1': range(1, 11),   # Numbers 1 to 10\n",
    "    'Column2': range(11, 21)   # Numbers 11 to 20\n",
    "}\n",
    "\n",
    "# Create a DataFrame from the dictionary\n",
    "df = pd.DataFrame(data)\n",
    "\n",
    "scaler = MinMaxScaler(feature_range=(-1, 1))\n",
    "normalized_data = scaler.fit_transform(df)\n",
    "normalized_df = pd.DataFrame(normalized_data, columns=df.columns)\n",
    "\n",
    "# Display the DataFrame\n",
    "print(df)\n",
    "print(normalized_df)\n"
   ]
  },
  {
   "cell_type": "markdown",
   "metadata": {},
   "source": []
  }
 ],
 "metadata": {
  "kernelspec": {
   "display_name": ".venv",
   "language": "python",
   "name": "python3"
  },
  "language_info": {
   "codemirror_mode": {
    "name": "ipython",
    "version": 3
   },
   "file_extension": ".py",
   "mimetype": "text/x-python",
   "name": "python",
   "nbconvert_exporter": "python",
   "pygments_lexer": "ipython3",
   "version": "3.12.5"
  }
 },
 "nbformat": 4,
 "nbformat_minor": 2
}
