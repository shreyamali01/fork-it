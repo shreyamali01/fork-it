{
 "cells": [
  {
   "cell_type": "code",
   "execution_count": 80,
   "metadata": {},
   "outputs": [],
   "source": [
    "import pandas as pd"
   ]
  },
  {
   "cell_type": "code",
   "execution_count": 81,
   "metadata": {},
   "outputs": [
    {
     "name": "stdout",
     "output_type": "stream",
     "text": [
      "        time  ax (m/s^2)  ay (m/s^2)  az (m/s^2)  aT (m/s^2)     label\n",
      "0  20.359357     -0.0591     -0.0463     -0.1319       0.152  STANDING\n",
      "1  20.370932     -0.0176     -0.0663     -0.1728       0.186  STANDING\n",
      "2  20.371584      0.0279     -0.0567     -0.2066       0.216  STANDING\n",
      "3  20.373780      0.0498     -0.0335     -0.2463       0.254  STANDING\n",
      "4  20.378657      0.0983     -0.0270     -0.2741       0.292  STANDING\n"
     ]
    }
   ],
   "source": [
    "import pandas as pd\n",
    "\n",
    "\n",
    "df_1 = pd.read_csv('/Users/shreya/Documents/fork-it/Task 4/Data/Laying/A_Laying_S1.csv')\n",
    "df_1['label'] = 'Laying'\n",
    "\n",
    "df_2 = pd.read_csv('/Users/shreya/Documents/fork-it/Task 4/Data/Laying/A_Laying_S2.csv')\n",
    "df_2['label'] = 'Laying'\n",
    "\n",
    "df_3 = pd.read_csv('/Users/shreya/Documents/fork-it/Task 4/Data/Laying/A_Laying_S3.csv')\n",
    "df_3['label'] = 'Laying'\n",
    "\n",
    "df_4 = pd.read_csv('/Users/shreya/Documents/fork-it/Task 4/Data/Laying/A_Laying_S4.csv')\n",
    "df_4['label'] = 'Laying'\n",
    "\n",
    "df_5 = pd.read_csv('/Users/shreya/Documents/fork-it/Task 4/Data/Laying/A_Laying_S5.csv')\n",
    "df_5['label'] = 'Laying'\n",
    "\n",
    "df_6 = pd.read_excel('/Users/shreya/Documents/fork-it/Task 4/Data/Laying/M_Laying_S1.xlsx', engine='openpyxl')\n",
    "df_6['label'] = 'Laying'\n",
    "\n",
    "df_7 = pd.read_excel('/Users/shreya/Documents/fork-it/Task 4/Data/Laying/M_Laying_S2.xlsx', engine='openpyxl')\n",
    "df_7['label'] = 'Laying'\n",
    "\n",
    "df_8 = pd.read_excel('/Users/shreya/Documents/fork-it/Task 4/Data/Laying/M_Laying_S3.xlsx', engine='openpyxl')\n",
    "df_8['label'] = 'Laying'\n",
    "\n",
    "df_9 = pd.read_excel('/Users/shreya/Documents/fork-it/Task 4/Data/Laying/M_Laying_S4.xlsx', engine='openpyxl')\n",
    "df_9['label'] = 'Laying'\n",
    "\n",
    "df_10 = pd.read_excel('/Users/shreya/Documents/fork-it/Task 4/Data/Laying/M_Laying_S5.xlsx', engine='openpyxl')\n",
    "df_10['label'] = 'Laying'\n",
    "\n",
    "df_laying = pd.concat([df_1, df_2, df_3, df_4, df_5, df_6, df_7, df_8, df_9, df_10], ignore_index=False)\n",
    "df_laying['label'] = 'LAYING'\n",
    "\n",
    "df1 = pd.read_csv('/Users/shreya/Documents/fork-it/Task 4/Data/Standing_Sitting/A_Sitting_S1.csv')\n",
    "df1['label'] = 'Sitting'\n",
    "\n",
    "df2 = pd.read_csv('/Users/shreya/Documents/fork-it/Task 4/Data/Standing_Sitting/A_Sitting_S2.csv')\n",
    "df2['label'] = 'Sitting'\n",
    "\n",
    "df3 = pd.read_csv('/Users/shreya/Documents/fork-it/Task 4/Data/Standing_Sitting/A_Sitting_S3.csv')\n",
    "df3['label'] = 'Sitting'\n",
    "\n",
    "df4 = pd.read_csv('/Users/shreya/Documents/fork-it/Task 4/Data/Standing_Sitting/A_Sitting_S4.csv')\n",
    "df4['label'] = 'Sitting'\n",
    "\n",
    "df5 = pd.read_csv('/Users/shreya/Documents/fork-it/Task 4/Data/Standing_Sitting/A_Sitting_S5.csv')\n",
    "df5['label'] = 'Sitting'\n",
    "\n",
    "df6 = pd.read_excel('/Users/shreya/Documents/fork-it/Task 4/Data/Standing_Sitting/M_Sitting_S1.xlsx', engine='openpyxl')\n",
    "df6['label'] = 'Sitting'\n",
    "\n",
    "df7 = pd.read_excel('/Users/shreya/Documents/fork-it/Task 4/Data/Standing_Sitting/M_Sitting_S2.xlsx', engine='openpyxl')\n",
    "df7['label'] = 'Sitting'\n",
    "\n",
    "df8 = pd.read_excel('/Users/shreya/Documents/fork-it/Task 4/Data/Standing_Sitting/M_Sitting_S3.xlsx', engine='openpyxl')\n",
    "df8['label'] = 'Sitting'\n",
    "\n",
    "df9 = pd.read_excel('/Users/shreya/Documents/fork-it/Task 4/Data/Standing_Sitting/M_Sitting_S4.xlsx', engine='openpyxl')\n",
    "df9['label'] = 'Sitting'\n",
    "\n",
    "df10 = pd.read_excel('/Users/shreya/Documents/fork-it/Task 4/Data/Standing_Sitting/M_Sitting_S5.xlsx', engine='openpyxl')\n",
    "df10['label'] = 'Sitting'\n",
    "\n",
    "df_sitting = pd.concat([df1, df2, df3, df4, df5, df6, df7, df8, df9, df10], ignore_index=False)\n",
    "df_sitting['label'] = 'SITTING'\n",
    "\n",
    "a = pd.read_csv('/Users/shreya/Documents/fork-it/Task 4/Data/Standing_Sitting/A_Standing_S1.csv')\n",
    "a['label'] = 'Standing'\n",
    "\n",
    "b = pd.read_csv('/Users/shreya/Documents/fork-it/Task 4/Data/Standing_Sitting/A_Standing_S2.csv')\n",
    "b['label'] = 'Standing'\n",
    "\n",
    "c = pd.read_csv('/Users/shreya/Documents/fork-it/Task 4/Data/Standing_Sitting/A_Standing_S3.csv')\n",
    "c['label'] = 'Standing'\n",
    "\n",
    "d = pd.read_csv('/Users/shreya/Documents/fork-it/Task 4/Data/Standing_Sitting/A_Standing_S4.csv')\n",
    "d['label'] = 'Standing'\n",
    "\n",
    "e = pd.read_excel('/Users/shreya/Documents/fork-it/Task 4/Data/Standing_Sitting/A_Standing_S5.xlsx', engine='openpyxl')\n",
    "e['label'] = 'Standing'\n",
    "\n",
    "f = pd.read_excel('/Users/shreya/Documents/fork-it/Task 4/Data/Standing_Sitting/M_Standing_S1.xlsx', engine='openpyxl')\n",
    "f['label'] = 'Standing'\n",
    "\n",
    "f = pd.read_excel('/Users/shreya/Documents/fork-it/Task 4/Data/Standing_Sitting/M_Standing_S2.xlsx', engine='openpyxl')\n",
    "f['label'] = 'Standing'\n",
    "\n",
    "f = pd.read_excel('/Users/shreya/Documents/fork-it/Task 4/Data/Standing_Sitting/M_Standing_S3.xlsx', engine='openpyxl')\n",
    "f['label'] = 'Standing'\n",
    "\n",
    "g = pd.read_excel('/Users/shreya/Documents/fork-it/Task 4/Data/Standing_Sitting/M_Standing_S4.xlsx', engine='openpyxl')\n",
    "g['label'] = 'Standing'\n",
    "\n",
    "h = pd.read_excel('/Users/shreya/Documents/fork-it/Task 4/Data/Standing_Sitting/M_Standing_S5.xlsx', engine='openpyxl')\n",
    "h['label'] = 'Standing'\n",
    "\n",
    "df_standing = pd.concat([a,b,c,d,e,f,g,h], ignore_index=False)\n",
    "df_standing['label'] = 'STANDING'\n",
    "\n",
    "print(df_standing.head())\n"
   ]
  },
  {
   "cell_type": "code",
   "execution_count": 82,
   "metadata": {},
   "outputs": [],
   "source": [
    "a1 = pd.read_excel('/Users/shreya/Documents/fork-it/Task 4/Data/Up_Downstairs/A_Downstairs_S1.xlsx', engine='openpyxl')\n",
    "a2 = pd.read_excel('/Users/shreya/Documents/fork-it/Task 4/Data/Up_Downstairs/A_Downstairs_S2.xlsx', engine='openpyxl')\n",
    "a3 = pd.read_excel('/Users/shreya/Documents/fork-it/Task 4/Data/Up_Downstairs/A_Downstairs_S3.xlsx', engine='openpyxl')\n",
    "a4 = pd.read_excel('/Users/shreya/Documents/fork-it/Task 4/Data/Up_Downstairs/A_Downstairs_S4.xlsx', engine='openpyxl')\n",
    "a5 = pd.read_excel('/Users/shreya/Documents/fork-it/Task 4/Data/Up_Downstairs/A_Downstairs_S5.xlsx', engine='openpyxl')\n",
    "a6 = pd.read_excel('/Users/shreya/Documents/fork-it/Task 4/Data/Up_Downstairs/M_Downstairs_S1.xlsx', engine='openpyxl')\n",
    "a7 = pd.read_excel('/Users/shreya/Documents/fork-it/Task 4/Data/Up_Downstairs/M_Downstairs_S2.xlsx', engine='openpyxl')\n",
    "a8 = pd.read_excel('/Users/shreya/Documents/fork-it/Task 4/Data/Up_Downstairs/M_Downstairs_S3.xlsx', engine='openpyxl')\n",
    "a9 = pd.read_excel('/Users/shreya/Documents/fork-it/Task 4/Data/Up_Downstairs/M_Downstairs_S4.xlsx', engine='openpyxl')\n",
    "a10 = pd.read_excel('/Users/shreya/Documents/fork-it/Task 4/Data/Up_Downstairs/M_Downstairs_S5.xlsx', engine='openpyxl')"
   ]
  },
  {
   "cell_type": "code",
   "execution_count": 83,
   "metadata": {},
   "outputs": [
    {
     "name": "stdout",
     "output_type": "stream",
     "text": [
      "          time  ax (m/s^2)  ay (m/s^2)  az (m/s^2)  aT (m/s^2)  \\\n",
      "0    53.992409     -1.4196      1.3158      0.6389       2.038   \n",
      "1    53.995157     -1.1999      1.5090      0.6030       2.020   \n",
      "2    53.999690     -0.9511      1.6794      0.5291       2.001   \n",
      "3    54.006069     -0.6452      1.8170      0.4529       1.981   \n",
      "4    54.009331     -0.2934      1.8899      0.3540       1.945   \n",
      "..         ...         ...         ...         ...         ...   \n",
      "499  74.827900     -1.9039     -0.1804     -1.1884       2.252   \n",
      "500  74.828440     -1.9899      0.0519     -1.0571       2.254   \n",
      "501  74.836001     -2.0764      0.2958     -0.9432       2.300   \n",
      "502  74.838124     -2.1134      0.5350     -0.9325       2.371   \n",
      "503  74.842813     -2.1960      0.8690     -0.8438       2.508   \n",
      "\n",
      "                  label  \n",
      "0    WALKING_DOWNSTAIRS  \n",
      "1    WALKING_DOWNSTAIRS  \n",
      "2    WALKING_DOWNSTAIRS  \n",
      "3    WALKING_DOWNSTAIRS  \n",
      "4    WALKING_DOWNSTAIRS  \n",
      "..                  ...  \n",
      "499  WALKING_DOWNSTAIRS  \n",
      "500  WALKING_DOWNSTAIRS  \n",
      "501  WALKING_DOWNSTAIRS  \n",
      "502  WALKING_DOWNSTAIRS  \n",
      "503  WALKING_DOWNSTAIRS  \n",
      "\n",
      "[5020 rows x 6 columns]\n"
     ]
    }
   ],
   "source": [
    "df_down = pd.concat([a1,a2,a3,a4,a5,a6,a7,a8,a9,a10], ignore_index=False)\n",
    "df_down['label'] = 'WALKING_DOWNSTAIRS'\n",
    "\n",
    "print(df_down)"
   ]
  },
  {
   "cell_type": "code",
   "execution_count": 84,
   "metadata": {},
   "outputs": [],
   "source": [
    "b1 = pd.read_excel('/Users/shreya/Documents/fork-it/Task 4/Data/Up_Downstairs/A_Upstairs_S1.xlsx', engine='openpyxl')\n",
    "b2 = pd.read_excel('/Users/shreya/Documents/fork-it/Task 4/Data/Up_Downstairs/A_Upstairs_S2.xlsx', engine='openpyxl')\n",
    "b3 = pd.read_excel('/Users/shreya/Documents/fork-it/Task 4/Data/Up_Downstairs/A_Upstairs_S3.xlsx', engine='openpyxl')\n",
    "b4 = pd.read_excel('/Users/shreya/Documents/fork-it/Task 4/Data/Up_Downstairs/A_Upstairs_S4.xlsx', engine='openpyxl')\n",
    "b5 = pd.read_excel('/Users/shreya/Documents/fork-it/Task 4/Data/Up_Downstairs/A_Upstairs_S5.xlsx', engine='openpyxl')\n",
    "b6 = pd.read_excel('/Users/shreya/Documents/fork-it/Task 4/Data/Up_Downstairs/M_Upstairs_S1.xlsx', engine='openpyxl')\n",
    "b7 = pd.read_excel('/Users/shreya/Documents/fork-it/Task 4/Data/Up_Downstairs/M_Upstairs_S2.xlsx', engine='openpyxl')\n",
    "b8 = pd.read_excel('/Users/shreya/Documents/fork-it/Task 4/Data/Up_Downstairs/M_Upstairs_S3.xlsx', engine='openpyxl')\n",
    "b9 = pd.read_excel('/Users/shreya/Documents/fork-it/Task 4/Data/Up_Downstairs/M_Upstairs_S4.xlsx', engine='openpyxl')\n",
    "b10 = pd.read_excel('/Users/shreya/Documents/fork-it/Task 4/Data/Up_Downstairs/M_Upstairs_S5.xlsx', engine='openpyxl')"
   ]
  },
  {
   "cell_type": "code",
   "execution_count": 85,
   "metadata": {},
   "outputs": [
    {
     "name": "stdout",
     "output_type": "stream",
     "text": [
      "        time  ax (m/s^2)  ay (m/s^2)  az (m/s^2)  aT (m/s^2)             label\n",
      "0  39.612183      0.7461     -0.0573      0.2877       0.802  WALKING_UPSTAIRS\n",
      "1  39.616645      0.6025     -0.1289      0.3191       0.694  WALKING_UPSTAIRS\n",
      "2  39.617224      0.4446     -0.2007      0.2975       0.571  WALKING_UPSTAIRS\n",
      "3  39.623470      0.3267     -0.3203      0.4022       0.609  WALKING_UPSTAIRS\n",
      "4  39.623957      0.2191     -0.3897      0.3352       0.559  WALKING_UPSTAIRS\n"
     ]
    }
   ],
   "source": [
    "df_up = pd.concat([b1,b2,b3,b4,b5,b6,b7,b8,b9,b10], ignore_index=False)\n",
    "df_up['label'] = 'WALKING_UPSTAIRS'\n",
    "\n",
    "print(df_up.head())"
   ]
  },
  {
   "cell_type": "code",
   "execution_count": 86,
   "metadata": {},
   "outputs": [],
   "source": [
    "w1 = pd.read_excel('/Users/shreya/Documents/fork-it/Task 4/Data/Walking/M_Walking_S1.xlsx', engine='openpyxl')\n",
    "w2 = pd.read_excel('/Users/shreya/Documents/fork-it/Task 4/Data/Walking/M_Walking_S2.xlsx', engine='openpyxl')\n",
    "w3 = pd.read_excel('/Users/shreya/Documents/fork-it/Task 4/Data/Walking/M_Walking_S3.xlsx', engine='openpyxl')\n",
    "w4 = pd.read_excel('/Users/shreya/Documents/fork-it/Task 4/Data/Walking/M_Walking_S4.xlsx', engine='openpyxl')\n",
    "w5 = pd.read_excel('/Users/shreya/Documents/fork-it/Task 4/Data/Walking/M_Walking_S5.xlsx', engine='openpyxl')"
   ]
  },
  {
   "cell_type": "code",
   "execution_count": 87,
   "metadata": {},
   "outputs": [],
   "source": [
    "d1 = pd.read_csv('/Users/shreya/Documents/fork-it/Task 4/Data/Walking/A_Walking_S1.csv')\n",
    "d2 = pd.read_csv('/Users/shreya/Documents/fork-it/Task 4/Data/Walking/A_Walking_S2.csv')\n",
    "d3 = pd.read_csv('/Users/shreya/Documents/fork-it/Task 4/Data/Walking/A_Walking_S3.csv')\n",
    "d4 = pd.read_csv('/Users/shreya/Documents/fork-it/Task 4/Data/Walking/A_Walking_S4.csv')\n",
    "d5 = pd.read_csv('/Users/shreya/Documents/fork-it/Task 4/Data/Walking/A_Walking_S5.csv')"
   ]
  },
  {
   "cell_type": "code",
   "execution_count": 88,
   "metadata": {},
   "outputs": [],
   "source": [
    "df_walking = pd.concat([w1,w2,w3,w4,w5,d1,d2,d3,d4,d5],ignore_index=False)\n",
    "df_walking['label'] = 'WALKING'\n"
   ]
  },
  {
   "cell_type": "code",
   "execution_count": 89,
   "metadata": {},
   "outputs": [],
   "source": [
    "data = pd.concat([df_walking,df_up,df_down, df_sitting,df_standing, df_laying])"
   ]
  },
  {
   "cell_type": "code",
   "execution_count": 90,
   "metadata": {},
   "outputs": [
    {
     "name": "stdout",
     "output_type": "stream",
     "text": [
      "       time  ax (m/s^2)  ay (m/s^2)  az (m/s^2)  aT (m/s^2)    label\n",
      "0  9.009992      3.1378     -1.8697      1.7189       4.037  WALKING\n",
      "1  9.015175      2.7793     -2.1430      1.5280       3.828  WALKING\n",
      "2  9.019427      2.3820     -2.3886      1.4851       3.686  WALKING\n",
      "3  9.024446      1.9315     -2.6075      1.4817       3.567  WALKING\n",
      "4  9.029707      1.5816     -2.6659      1.4791       3.435  WALKING\n"
     ]
    }
   ],
   "source": [
    "print(data.head())"
   ]
  },
  {
   "cell_type": "code",
   "execution_count": 91,
   "metadata": {},
   "outputs": [],
   "source": [
    "data.to_csv('/Users/shreya/Documents/fork-it/Task 4/data.csv', index=False)"
   ]
  },
  {
   "cell_type": "code",
   "execution_count": null,
   "metadata": {},
   "outputs": [],
   "source": []
  }
 ],
 "metadata": {
  "kernelspec": {
   "display_name": ".venv",
   "language": "python",
   "name": "python3"
  },
  "language_info": {
   "codemirror_mode": {
    "name": "ipython",
    "version": 3
   },
   "file_extension": ".py",
   "mimetype": "text/x-python",
   "name": "python",
   "nbconvert_exporter": "python",
   "pygments_lexer": "ipython3",
   "version": "3.12.5"
  }
 },
 "nbformat": 4,
 "nbformat_minor": 2
}
