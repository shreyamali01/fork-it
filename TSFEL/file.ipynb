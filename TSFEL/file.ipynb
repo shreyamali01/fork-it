{
 "cells": [
  {
   "cell_type": "markdown",
   "metadata": {},
   "source": [
    "Using TSFEL to create more relevant features\n"
   ]
  },
  {
   "cell_type": "code",
   "execution_count": 26,
   "metadata": {},
   "outputs": [],
   "source": [
    "#importing necessary libraries\n",
    "import pandas as pd\n",
    "import numpy as np\n",
    "import tsfel\n",
    "import matplotlib.pyplot as plt\n",
    "from sklearn.feature_selection import VarianceThreshold\n",
    "from sklearn import preprocessing\n",
    "import os\n"
   ]
  },
  {
   "cell_type": "code",
   "execution_count": 27,
   "metadata": {},
   "outputs": [],
   "source": [
    "#paths to train data and test data\n",
    "train_folder = '/Users/shreya/Documents/fork-it/HAR/Combined/Train'\n",
    "test_folder = '/Users/shreya/Documents/fork-it/HAR/Combined/Test'"
   ]
  },
  {
   "cell_type": "code",
   "execution_count": 28,
   "metadata": {},
   "outputs": [],
   "source": [
    "#function to load data\n",
    "def load_data(folder):\n",
    "    data = []\n",
    "    labels = []\n",
    "\n",
    "    #iterate through the activities\n",
    "    for activity in os.listdir(folder):\n",
    "        activity_path = os.path.join(folder,activity)\n",
    "\n",
    "        #checking if the path is a directory\n",
    "        if os.path.isdir(activity_path):\n",
    "            #iterating through the files of each subject's folder\n",
    "            for file in os.listdir(activity_path):\n",
    "                if file.endswith('.csv'):\n",
    "                    file_path = os.path.join(activity_path, file)\n",
    "                    df = pd.read_csv(file_path)\n",
    "                    #appending accelerometer data\n",
    "                    data.append(df[['accx','accy','accz']])\n",
    "                    #adding activity label\n",
    "                    labels.extend([activity]*len(df))\n",
    "    \n",
    "    #concatenating all the data in a single dataframe\n",
    "    df_combined = pd.concat(data, ignore_index=True)\n",
    "    df_combined['labels'] = labels\n",
    "\n",
    "    return df_combined"
   ]
  },
  {
   "cell_type": "code",
   "execution_count": 32,
   "metadata": {},
   "outputs": [
    {
     "name": "stdout",
     "output_type": "stream",
     "text": [
      "            accx      accy      accz  total_acc   labels\n",
      "0       0.569501 -0.203172 -0.152077   0.623489  WALKING\n",
      "1       0.584063 -0.208670 -0.059063   0.623026  WALKING\n",
      "2       0.643652 -0.227615  0.029840   0.683364  WALKING\n",
      "3       0.736044 -0.272858  0.038750   0.785947  WALKING\n",
      "4       0.862503 -0.288378  0.021114   0.909681  WALKING\n",
      "...          ...       ...       ...        ...      ...\n",
      "470523  0.117154  0.937592 -0.346806   1.006518   LAYING\n",
      "470524  0.119710  0.937131 -0.346094   1.006144   LAYING\n",
      "470525  0.109197  0.937901 -0.344062   1.004967   LAYING\n",
      "470526  0.100659  0.937448 -0.344856   1.003925   LAYING\n",
      "470527  0.104422  0.938384 -0.345324   1.005345   LAYING\n",
      "\n",
      "[470528 rows x 5 columns]\n"
     ]
    }
   ],
   "source": [
    "#loading training data\n",
    "df_train = load_data(train_folder)\n",
    "\n",
    "#loading test data\n",
    "df_test = load_data(test_folder)\n",
    "\n",
    "#calculating total acceleration\n",
    "df_train['total_acc'] = np.sqrt(df_train['accx']**2 + df_train['accy']**2 + df_train['accz']**2)\n",
    "df_test['total_acc'] = np.sqrt(df_test['accx']**2 + df_test['accy']**2 + df_test['accz']**2)\n",
    "\n",
    "#rearranging\n",
    "df_train = df_train[['accx','accy','accz','total_acc','labels']]\n",
    "df_test = df_test[['accx','accy','accz','total_acc','labels']]\n",
    "\n",
    "print(df_train)"
   ]
  },
  {
   "cell_type": "code",
   "execution_count": 61,
   "metadata": {},
   "outputs": [
    {
     "name": "stdout",
     "output_type": "stream",
     "text": [
      "*** Feature extraction started ***\n"
     ]
    },
    {
     "name": "stderr",
     "output_type": "stream",
     "text": [
      "/var/folders/20/90f_lm_94hq07z9ktfpfl3hh0000gn/T/ipykernel_8052/2282706663.py:3: UserWarning: Using default sampling frequency set in configuration file.\n",
      "  X = tsfel.time_series_features_extractor(cfg, df_train[['accx','accy','accz']])\n"
     ]
    },
    {
     "data": {
      "text/html": [
       "\n",
       "              <p>\n",
       "                  Progress: 1% Complete\n",
       "              <p/>\n",
       "              <progress\n",
       "                  value='1'\n",
       "                  max='67',\n",
       "                  style='width: 25%',\n",
       "              >\n",
       "                  1\n",
       "              </progress>\n",
       "\n",
       "    "
      ],
      "text/plain": [
       "<IPython.core.display.HTML object>"
      ]
     },
     "metadata": {},
     "output_type": "display_data"
    },
    {
     "name": "stdout",
     "output_type": "stream",
     "text": [
      "\n",
      "*** Feature extraction finished ***\n"
     ]
    }
   ],
   "source": [
    "cfg = tsfel.get_features_by_domain()\n",
    "\n",
    "X = tsfel.time_series_features_extractor(cfg, df_train[['accx','accy','accz']])"
   ]
  },
  {
   "cell_type": "code",
   "execution_count": 62,
   "metadata": {},
   "outputs": [
    {
     "name": "stdout",
     "output_type": "stream",
     "text": [
      "   accx_Absolute energy  accx_Area under the curve  accx_Autocorrelation  \\\n",
      "0         385367.432935                 3839.91369               45177.0   \n",
      "\n",
      "   accx_Average power  accx_Centroid  accx_ECDF Percentile Count_0  \\\n",
      "0           81.901237    1926.615951                       94105.0   \n",
      "\n",
      "   accx_ECDF Percentile Count_1  accx_ECDF Percentile_0  \\\n",
      "0                      376422.0                0.471498   \n",
      "\n",
      "   accx_ECDF Percentile_1  accx_ECDF_0  ...  accz_Wavelet variance_0  \\\n",
      "0                1.023845     0.000002  ...                 0.003636   \n",
      "\n",
      "   accz_Wavelet variance_1  accz_Wavelet variance_2  accz_Wavelet variance_3  \\\n",
      "0                 0.014017                 0.022586                 0.033519   \n",
      "\n",
      "   accz_Wavelet variance_4  accz_Wavelet variance_5  accz_Wavelet variance_6  \\\n",
      "0                 0.047699                 0.062864                 0.074835   \n",
      "\n",
      "   accz_Wavelet variance_7  accz_Wavelet variance_8  accz_Zero crossing rate  \n",
      "0                 0.081612                  0.08472                  18090.0  \n",
      "\n",
      "[1 rows x 1167 columns]\n"
     ]
    }
   ],
   "source": [
    "print(X)"
   ]
  },
  {
   "cell_type": "code",
   "execution_count": null,
   "metadata": {},
   "outputs": [],
   "source": []
  }
 ],
 "metadata": {
  "kernelspec": {
   "display_name": ".venv",
   "language": "python",
   "name": "python3"
  },
  "language_info": {
   "codemirror_mode": {
    "name": "ipython",
    "version": 3
   },
   "file_extension": ".py",
   "mimetype": "text/x-python",
   "name": "python",
   "nbconvert_exporter": "python",
   "pygments_lexer": "ipython3",
   "version": "3.12.5"
  }
 },
 "nbformat": 4,
 "nbformat_minor": 2
}
