{
 "cells": [
  {
   "cell_type": "code",
   "execution_count": 1,
   "metadata": {},
   "outputs": [],
   "source": [
    "#importing the required libraries\n",
    "\n",
    "import csv"
   ]
  },
  {
   "cell_type": "code",
   "execution_count": 2,
   "metadata": {},
   "outputs": [
    {
     "name": "stdout",
     "output_type": "stream",
     "text": [
      "Addition of X_test.txt to .csv completed successfully!\n"
     ]
    }
   ],
   "source": [
    "#Adding data from X_test.txt\n",
    "\n",
    "with open('X_test.txt', 'r') as X_test_txt_file:\n",
    "    lines = X_test_txt_file.readlines()\n",
    "\n",
    "with open('TestDataset_561.csv', 'w', newline='') as csv_file:\n",
    "    writer = csv.writer(csv_file)\n",
    "\n",
    "    for line in lines:\n",
    "        ind = 1\n",
    "        row = []\n",
    "        while (ind < len(line)):\n",
    "            row.append(line[ind:ind+15])\n",
    "            ind += 16\n",
    "        writer.writerow(row)\n",
    "\n",
    "print(\"Addition of X_test.txt to .csv completed successfully!\")"
   ]
  },
  {
   "cell_type": "code",
   "execution_count": 3,
   "metadata": {},
   "outputs": [
    {
     "name": "stdout",
     "output_type": "stream",
     "text": [
      "Labels added to the .csv file successfully!\n"
     ]
    }
   ],
   "source": [
    "#Adding labels from y_test.txt\n",
    "\n",
    "with open('TestDataset_561.csv', 'r') as csv_file:\n",
    "    reader = csv.reader(csv_file)\n",
    "    csv_data = list(reader)\n",
    "\n",
    "with open('y_test.txt', 'r') as y_test_txt_file:\n",
    "    new_data = y_test_txt_file.readlines()\n",
    "\n",
    "new_data = [line.strip() for line in new_data]\n",
    "for i in range(len(new_data)):\n",
    "    label_name = [new_data[i]]\n",
    "    if (new_data[i] == \"1\"):\n",
    "        label_name.append(\"WALKING\")\n",
    "    elif (new_data[i] == \"2\"):\n",
    "        label_name.append(\"WALKING_UPSTAIRS\")\n",
    "    elif (new_data[i] == \"3\"):\n",
    "        label_name.append(\"WALKING_DOWNSTAIRS\")\n",
    "    elif (new_data[i] == \"4\"):\n",
    "        label_name.append(\"SITTING\")\n",
    "    elif (new_data[i] == \"5\"):\n",
    "        label_name.append(\"STANDING\")\n",
    "    elif (new_data[i] == \"6\"):\n",
    "        label_name.append(\"LAYING\")\n",
    "    else:\n",
    "        label_name.append(\"NONE\")\n",
    "    new_data[i] = label_name\n",
    "\n",
    "for i in range(len(csv_data)):\n",
    "    csv_data[i].append(new_data[i][0])\n",
    "    csv_data[i].append(new_data[i][1])\n",
    "\n",
    "# Step 4: Write the updated data back to the .csv file\n",
    "with open('TestDataset_561.csv', 'w', newline='') as csv_file:\n",
    "    writer = csv.writer(csv_file)\n",
    "    writer.writerows(csv_data)\n",
    "\n",
    "print(\"Labels added to the .csv file successfully!\")"
   ]
  },
  {
   "cell_type": "code",
   "execution_count": 4,
   "metadata": {},
   "outputs": [
    {
     "name": "stdout",
     "output_type": "stream",
     "text": [
      "Feature names added to the .csv file successfully!\n"
     ]
    }
   ],
   "source": [
    "#Adding feature names from features.txt\n",
    "\n",
    "with open('features.txt', 'r') as headings_file:\n",
    "    heads = headings_file.readlines()\n",
    "\n",
    "headings = []\n",
    "for i in range(len(heads)):\n",
    "    row = heads[i].split()\n",
    "    headings.append(row[1])\n",
    "headings.append(\"Labels\")\n",
    "headings.append(\"Activity Name\")\n",
    "\n",
    "with open('TestDataset_561.csv', 'r') as csv_file:\n",
    "    reader = csv.reader(csv_file)\n",
    "    csv_data = list(reader)\n",
    "\n",
    "csv_data.insert(0, headings)\n",
    "\n",
    "with open('TestDataset_561.csv', 'w', newline='') as csv_file:\n",
    "    writer = csv.writer(csv_file)\n",
    "    writer.writerows(csv_data)\n",
    "\n",
    "print(\"Feature names added to the .csv file successfully!\")"
   ]
  }
 ],
 "metadata": {
  "kernelspec": {
   "display_name": "Python 3",
   "language": "python",
   "name": "python3"
  },
  "language_info": {
   "codemirror_mode": {
    "name": "ipython",
    "version": 3
   },
   "file_extension": ".py",
   "mimetype": "text/x-python",
   "name": "python",
   "nbconvert_exporter": "python",
   "pygments_lexer": "ipython3",
   "version": "3.11.0"
  }
 },
 "nbformat": 4,
 "nbformat_minor": 2
}
